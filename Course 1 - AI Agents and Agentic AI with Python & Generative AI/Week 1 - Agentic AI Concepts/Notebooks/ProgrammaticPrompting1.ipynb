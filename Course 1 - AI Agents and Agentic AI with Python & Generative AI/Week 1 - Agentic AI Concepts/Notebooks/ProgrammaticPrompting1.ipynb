{
  "nbformat": 4,
  "nbformat_minor": 0,
  "metadata": {
    "colab": {
      "provenance": []
    },
    "kernelspec": {
      "name": "python3",
      "display_name": "Python 3"
    },
    "language_info": {
      "name": "python"
    }
  },
  "cells": [
    {
      "cell_type": "code",
      "source": [
        "!!pip install litellm\n",
        "\n",
        "# Important!!!\n",
        "#\n",
        "# <---- Set your 'OPENAI_API_KEY' as a secret over there with the \"key\" icon\n",
        "#\n",
        "#\n",
        "import os\n",
        "from google.colab import userdata\n",
        "api_key = userdata.get('OPENAI_API_KEY')\n",
        "os.environ['OPENAI_API_KEY'] = api_key"
      ],
      "metadata": {
        "id": "KEYrzG2vB8Ip"
      },
      "execution_count": 2,
      "outputs": []
    },
    {
      "cell_type": "code",
      "execution_count": 3,
      "metadata": {
        "colab": {
          "base_uri": "https://localhost:8080/"
        },
        "id": "Mwe2eeOQB0cC",
        "outputId": "8eba0cc4-7fee-4391-af2d-f499227c1188"
      },
      "outputs": [
        {
          "output_type": "stream",
          "name": "stdout",
          "text": [
            "Certainly! In a functional programming style, we often favor immutability and operations on collections. Here's one way to write a function in Python that swaps keys and values in a dictionary using a functional approach:\n",
            "\n",
            "```python\n",
            "def swap_dict(d):\n",
            "    if not isinstance(d, dict):\n",
            "        raise ValueError(\"Input must be a dictionary.\")\n",
            "    \n",
            "    # Use a dictionary comprehension to swap keys and values\n",
            "    swapped = {v: k for k, v in d.items()}\n",
            "    \n",
            "    # Check for any duplicate values in the original dictionary, which would become duplicate keys\n",
            "    if len(swapped) != len(d):\n",
            "        raise ValueError(\"Duplicate values found in the original dictionary which would result in duplicate keys in the swapped dictionary.\")\n",
            "    \n",
            "    return swapped\n",
            "\n",
            "# Example usage:\n",
            "original_dict = {'a': 1, 'b': 2, 'c': 3}\n",
            "swapped_dict = swap_dict(original_dict)\n",
            "print(swapped_dict)  # Output: {1: 'a', 2: 'b', 3: 'c'}\n",
            "```\n",
            "\n",
            "**Explanation:**\n",
            "- The function `swap_dict` takes a dictionary `d` as input.\n",
            "- It first checks if the input is a dictionary, raising a `ValueError` if not.\n",
            "- It constructs a new dictionary using dictionary comprehension, swapping keys and values using `{v: k for k, v in d.items()}`.\n",
            "- It then checks for duplicate values which, after swapping, would lead to duplicate keys in the resulting dictionary and raises a `ValueError` if duplicates are detected.\n",
            "- The function returns a new dictionary with the keys and values swapped.\n",
            "\n",
            "This approach maintains immutability by creating a new dictionary instead of modifying the input dictionary. Additionally, note that in practice, using immutable data structures and considering potential issues like duplicate keys/values is crucial in maintaining functional programming principles.\n"
          ]
        }
      ],
      "source": [
        "from litellm import completion\n",
        "from typing import List, Dict\n",
        "\n",
        "\n",
        "def generate_response(messages: List[Dict]) -> str:\n",
        "    \"\"\"Call LLM to get response\"\"\"\n",
        "    response = completion(\n",
        "        model=\"openai/gpt-4o\",\n",
        "        messages=messages,\n",
        "        max_tokens=1024\n",
        "    )\n",
        "    return response.choices[0].message.content\n",
        "\n",
        "\n",
        "messages = [\n",
        "    {\"role\": \"system\", \"content\": \"You are an expert software engineer that prefers functional programming.\"},\n",
        "    {\"role\": \"user\", \"content\": \"Write a function to swap the keys and values in a dictionary.\"}\n",
        "]\n",
        "\n",
        "response = generate_response(messages)\n",
        "print(response)"
      ]
    }
  ]
}